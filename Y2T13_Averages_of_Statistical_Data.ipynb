{
  "nbformat": 4,
  "nbformat_minor": 0,
  "metadata": {
    "colab": {
      "name": "Y2T13 - Averages of Statistical Data.ipynb",
      "provenance": [],
      "collapsed_sections": [],
      "include_colab_link": true
    },
    "kernelspec": {
      "name": "python3",
      "display_name": "Python 3"
    }
  },
  "cells": [
    {
      "cell_type": "markdown",
      "metadata": {
        "id": "view-in-github",
        "colab_type": "text"
      },
      "source": [
        "<a href=\"https://colab.research.google.com/github/marksumanting/y2math/blob/master/Y2T13_Averages_of_Statistical_Data.ipynb\" target=\"_parent\"><img src=\"https://colab.research.google.com/assets/colab-badge.svg\" alt=\"Open In Colab\"/></a>"
      ]
    },
    {
      "cell_type": "code",
      "metadata": {
        "id": "1-A5kidTfyT3",
        "colab_type": "code",
        "outputId": "bb33525d-748d-4037-9869-4ae30ae0fa63",
        "colab": {
          "base_uri": "https://localhost:8080/",
          "height": 51
        }
      },
      "source": [
        "# Find the mean of n numbers\n",
        "import random\n",
        "\n",
        "n = 10\n",
        "numbers = []\n",
        "\n",
        "for i in range(n):\n",
        "  numbers.append(random.randint(1,100))\n",
        "\n",
        "total = 0\n",
        "for number in numbers:\n",
        "  total += number\n",
        "print(numbers)\n",
        "print(total / n)"
      ],
      "execution_count": 0,
      "outputs": [
        {
          "output_type": "stream",
          "text": [
            "[69, 99, 48, 75, 58, 43, 54, 2, 65, 51]\n",
            "56.4\n"
          ],
          "name": "stdout"
        }
      ]
    },
    {
      "cell_type": "code",
      "metadata": {
        "colab_type": "code",
        "outputId": "84c48235-2909-4297-9254-137adb99d9f8",
        "id": "nUeRc5IwiUmx",
        "colab": {
          "base_uri": "https://localhost:8080/",
          "height": 71
        }
      },
      "source": [
        "# Find the mean of n numbers\n",
        "import random\n",
        "\n",
        "n = 10\n",
        "numbers = []\n",
        "\n",
        "for i in range(n):\n",
        "  numbers.append(random.random() * 100) # [0 to 1)\n",
        "\n",
        "total = 0\n",
        "for number in numbers:\n",
        "  total += number\n",
        "print(numbers)\n",
        "print(total / n)"
      ],
      "execution_count": 0,
      "outputs": [
        {
          "output_type": "stream",
          "text": [
            "[4.622499169173489, 92.46637394720771, 14.541904814863882, 81.75464082443975, 13.58526446108993, 96.8527222766023, 31.96593111084787, 17.874242717549148, 74.22944663275807, 47.22983378503748]\n",
            "47.51228597395696\n"
          ],
          "name": "stdout"
        }
      ]
    },
    {
      "cell_type": "code",
      "metadata": {
        "id": "pNa2vVqyirX7",
        "colab_type": "code",
        "outputId": "cf918094-66ac-48b5-e109-c56e8a058fb1",
        "colab": {
          "base_uri": "https://localhost:8080/",
          "height": 34
        }
      },
      "source": [
        "# The mean of 34, 23, 65, x, 91 is 52. Find x.\n",
        "mean = 52\n",
        "known_numbers = [34, 23, 65, 91]\n",
        "total = mean * 5\n",
        "for num in known_numbers:\n",
        "  total -= num\n",
        "print(total)"
      ],
      "execution_count": 0,
      "outputs": [
        {
          "output_type": "stream",
          "text": [
            "47\n"
          ],
          "name": "stdout"
        }
      ]
    },
    {
      "cell_type": "code",
      "metadata": {
        "id": "QYoX4gs2kdgV",
        "colab_type": "code",
        "outputId": "eb3bdafa-b461-4d6b-d617-0b21ebe344f8",
        "colab": {
          "base_uri": "https://localhost:8080/",
          "height": 68
        }
      },
      "source": [
        "# calculate mean salary\n",
        "weekly_salaries = [1000, 1100, 1200, 2100, 2500]\n",
        "num_employees = [20, 8, 10, 7, 5]\n",
        "\n",
        "print(\"Total number of employees:\", sum(num_employees))\n",
        "\n",
        "total_salaries = 0\n",
        "for i in range(len(weekly_salaries)):\n",
        "  total_salaries += weekly_salaries[i] * num_employees[i]\n",
        "print(\"Total salary paid:\", total_salaries)\n",
        "\n",
        "print(\"Mean weekly salary:\", total_salaries / sum(num_employees))"
      ],
      "execution_count": 0,
      "outputs": [
        {
          "output_type": "stream",
          "text": [
            "Total number of employees: 50\n",
            "Total salary paid: 68000\n",
            "Mean weekly salary: 1360.0\n"
          ],
          "name": "stdout"
        }
      ]
    },
    {
      "cell_type": "code",
      "metadata": {
        "id": "6A01spBhl_oJ",
        "colab_type": "code",
        "outputId": "b3dd466d-29c8-48a2-fc9b-f4ddd77dd8c1",
        "colab": {
          "base_uri": "https://localhost:8080/",
          "height": 50
        }
      },
      "source": [
        "# Find median of n numbers\n",
        "A = [4, 1, 5, 6, 2, 5]\n",
        "\n",
        "def def quicksort(elements):\n",
        "    if len(elements) == 0:\n",
        "        return []\n",
        "    else:\n",
        "        return quicksort([i for i in elements[1:] if i < elements[0]]) + [elements[0]] + quicksort([i for i in elements[1:] if i >= elements[0]])\n",
        "quicksort(A)\n",
        "print(A)\n",
        "mid = len(A) // 2\n",
        "if len(A) % 2 == 0:\n",
        "  median = (A[mid-1] + A[mid]) / 2\n",
        "else: # odd\n",
        "  median = A[mid]\n",
        "print(median)\n"
      ],
      "execution_count": 0,
      "outputs": [
        {
          "output_type": "stream",
          "text": [
            "[1, 2, 4, 5, 5, 6]\n",
            "4.5\n"
          ],
          "name": "stdout"
        }
      ]
    },
    {
      "cell_type": "code",
      "metadata": {
        "id": "erkh29us5IJu",
        "colab_type": "code",
        "colab": {}
      },
      "source": [
        "# Find mode of n numbers\n",
        "\n",
        "# pls add me\n"
      ],
      "execution_count": 0,
      "outputs": []
    }
  ]
}
